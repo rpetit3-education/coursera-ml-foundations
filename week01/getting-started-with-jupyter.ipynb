{
 "cells": [
  {
   "cell_type": "markdown",
   "metadata": {},
   "source": [
    "#  Getting Started With Jupyter\n",
    "\n",
    "## What's been done?\n",
    "* Installed python\n",
    "* Started a Jupyter notebook\n",
    "\n",
    "## Look it Works!\n"
   ]
  },
  {
   "cell_type": "code",
   "execution_count": 1,
   "metadata": {
    "collapsed": false
   },
   "outputs": [
    {
     "name": "stdout",
     "output_type": "stream",
     "text": [
      "Hello world!\n"
     ]
    }
   ],
   "source": [
    "print(\"Hello world!\")"
   ]
  },
  {
   "cell_type": "markdown",
   "metadata": {},
   "source": [
    "## Creating variables in Python"
   ]
  },
  {
   "cell_type": "code",
   "execution_count": 4,
   "metadata": {
    "collapsed": false
   },
   "outputs": [
    {
     "name": "stdout",
     "output_type": "stream",
     "text": [
      "<type 'int'>\n",
      "<type 'float'>\n",
      "<type 'bool'>\n",
      "<type 'str'>\n",
      "<type 'list'>\n",
      "<type 'dict'>\n",
      "<type 'NoneType'>\n"
     ]
    }
   ],
   "source": [
    "# Integer\n",
    "i = 4\n",
    "print(type(i))\n",
    "\n",
    "# Float\n",
    "f = 4.0\n",
    "print(type(f))\n",
    "\n",
    "# Boolean\n",
    "b = True\n",
    "print(type(b))\n",
    "\n",
    "# String\n",
    "s = \"awesome\"\n",
    "print(type(s))\n",
    "\n",
    "# Lists\n",
    "l = [1,2,3,4]\n",
    "print(type(l))\n",
    "\n",
    "# Dictionary\n",
    "d = {'int':1, 'float': 2.0, 'string':'yep', 'boolean':True}\n",
    "print(type(d))\n",
    "\n",
    "# None type\n",
    "n = None\n",
    "print(type(n))"
   ]
  },
  {
   "cell_type": "markdown",
   "metadata": {},
   "source": [
    "## Advanced Printing"
   ]
  },
  {
   "cell_type": "code",
   "execution_count": 5,
   "metadata": {
    "collapsed": false
   },
   "outputs": [
    {
     "name": "stdout",
     "output_type": "stream",
     "text": [
      "Out interger is 4, and our float value is 4.0.\n"
     ]
    }
   ],
   "source": [
    "print(\"Out interger is {0}, and our float value is {1}.\".format(i, f))"
   ]
  },
  {
   "cell_type": "markdown",
   "metadata": {},
   "source": [
    "## Conditional Statements"
   ]
  },
  {
   "cell_type": "code",
   "execution_count": 6,
   "metadata": {
    "collapsed": false
   },
   "outputs": [
    {
     "name": "stdout",
     "output_type": "stream",
     "text": [
      "Either i is equal to 1 or f is greater than 2\n"
     ]
    }
   ],
   "source": [
    "if i == 1 and f > 2:\n",
    "    print(\"i is equal to 1, and f is greater than 2\")\n",
    "elif i == 1 or f > 2:\n",
    "    print(\"Either i is equal to 1 or f is greater than 2\")\n",
    "else:\n",
    "    print(\"Neither i is equal to 1 nor f is greater than 2\")"
   ]
  },
  {
   "cell_type": "markdown",
   "metadata": {},
   "source": [
    "## Conditional loops"
   ]
  },
  {
   "cell_type": "code",
   "execution_count": 8,
   "metadata": {
    "collapsed": false
   },
   "outputs": [
    {
     "name": "stdout",
     "output_type": "stream",
     "text": [
      "1\n",
      "2\n",
      "3\n",
      "4\n"
     ]
    }
   ],
   "source": [
    "for e in l:\n",
    "    print(e)"
   ]
  },
  {
   "cell_type": "code",
   "execution_count": 9,
   "metadata": {
    "collapsed": false
   },
   "outputs": [
    {
     "name": "stdout",
     "output_type": "stream",
     "text": [
      "0\n",
      "1\n",
      "2\n",
      "3\n",
      "4\n",
      "5\n",
      "6\n",
      "7\n",
      "8\n"
     ]
    }
   ],
   "source": [
    "c = 0\n",
    "while c < i:\n",
    "    print(c)\n",
    "    c += 1"
   ]
  }
 ],
 "metadata": {
  "kernelspec": {
   "display_name": "Python 2",
   "language": "python",
   "name": "python2"
  },
  "language_info": {
   "codemirror_mode": {
    "name": "ipython",
    "version": 2
   },
   "file_extension": ".py",
   "mimetype": "text/x-python",
   "name": "python",
   "nbconvert_exporter": "python",
   "pygments_lexer": "ipython2",
   "version": "2.7.11"
  }
 },
 "nbformat": 4,
 "nbformat_minor": 0
}
